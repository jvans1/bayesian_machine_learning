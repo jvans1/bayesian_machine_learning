{
 "cells": [
  {
   "cell_type": "code",
   "execution_count": 1,
   "metadata": {
    "collapsed": true
   },
   "outputs": [],
   "source": [
    "import numpy as np\n",
    "import torch\n",
    "import torch.nn as nn\n",
    "\n",
    "from torch.autograd import Variable\n",
    "\n",
    "import pyro\n",
    "from pyro.distributions import Normal\n",
    "from pyro.infer import SVI\n",
    "from pyro.optim import Adam"
   ]
  },
  {
   "cell_type": "code",
   "execution_count": 43,
   "metadata": {
    "collapsed": false
   },
   "outputs": [],
   "source": [
    "N = 100\n",
    "num_features = 1 \n",
    "def build_linear_dataset(N, noise_std=0.01):\n",
    "    X = np.linspace(-3,3, N)\n",
    "    Y = X * 3 + 1 + np.random.normal(0, noise_std, size = N)\n",
    "    X = torch.autograd.Variable(torch.Tensor(X.reshape((N, 1))))\n",
    "    Y = torch.autograd.Variable(torch.Tensor(Y.reshape((N, 1))))\n",
    "    return torch.cat((X, Y), 1)"
   ]
  },
  {
   "cell_type": "code",
   "execution_count": 36,
   "metadata": {
    "collapsed": true
   },
   "outputs": [],
   "source": [
    "class RegressionModel(nn.Module):\n",
    "    def __init__(self, num_features):\n",
    "        super(RegressionModel, self).__init__()\n",
    "        self.linear = nn.Linear(num_features, 1)\n",
    "        \n",
    "    def forward(self, x):\n",
    "        return self.linear(x)\n",
    "    \n",
    "    \n",
    "regression = RegressionModel(num_features)\n"
   ]
  },
  {
   "cell_type": "markdown",
   "metadata": {},
   "source": [
    "# Regression via point estimates"
   ]
  },
  {
   "cell_type": "code",
   "execution_count": 62,
   "metadata": {
    "collapsed": false
   },
   "outputs": [
    {
     "name": "stdout",
     "output_type": "stream",
     "text": [
      "Total Loss after 0050, 2115.3093\n",
      "Total Loss after 0100, 1410.7089\n",
      "Total Loss after 0150, 914.0960\n",
      "Total Loss after 0200, 573.1920\n",
      "Total Loss after 0250, 345.9367\n",
      "Total Loss after 0300, 199.9661\n",
      "Total Loss after 0350, 110.3257\n",
      "Total Loss after 0400, 57.9690\n",
      "Total Loss after 0450, 28.9671\n",
      "Total Loss after 0500, 13.7541\n",
      "linear.weight, 2.789407\n",
      "linear.bias, 1.000050\n"
     ]
    }
   ],
   "source": [
    "regression = RegressionModel(num_features)\n",
    "loss_fn = torch.nn.MSELoss(False)\n",
    "optimizer = torch.optim.Adam(regression.parameters(), lr=0.01)\n",
    "iterations = 500\n",
    "\n",
    "data = build_linear_dataset(N)\n",
    "for i in range(iterations):\n",
    "    output = regression(data[:, :-1])\n",
    "    loss = loss_fn(output, data[:, 1])\n",
    "    optimizer.zero_grad()\n",
    "    loss.backward()\n",
    "    optimizer.step()\n",
    "    if (i + 1) % 50 == 0:\n",
    "        print(\"Total Loss after %04d, %.4f\" % (i + 1, loss.data[0]))\n",
    "        \n",
    "        \n",
    "for name, param in regression.named_parameters():\n",
    "    print(\"%s, %f\" % (name, param.data.numpy()))"
   ]
  },
  {
   "cell_type": "markdown",
   "metadata": {},
   "source": [
    "# Bayesian Regression"
   ]
  },
  {
   "cell_type": "code",
   "execution_count": 65,
   "metadata": {
    "collapsed": false
   },
   "outputs": [],
   "source": [
    "mu = torch.autograd.Variable(torch.zeros(1,1))\n",
    "stddev = torch.autograd.Variable(torch.ones(1,1))\n",
    "\n",
    "prior = Normal(mu, stddev)\n",
    "\n",
    "\n",
    "lifted_module = pyro.random_module(\"regression_model\", regression, prior)\n",
    "\n",
    "sampled_model = lifted_module()"
   ]
  },
  {
   "cell_type": "code",
   "execution_count": null,
   "metadata": {
    "collapsed": true
   },
   "outputs": [],
   "source": [
    "def model(data):\n",
    "    X = data[:, :-1]\n",
    "    Y = data[:, -1]\n",
    "    weight_mu = Variable(torch.zeros(1, num_features))\n",
    "    weight_std = Variable(torch.ones(1, num_features) * 10)\n",
    "\n",
    "    bias_mu = Variable(torch.zeros(1, num_features))\n",
    "    bias_std = Variable(torch.ones(1, num_features) * 10)\n",
    "\n",
    "    weight_prior = Normal(weight_mu, weight_std)\n",
    "    bias_prior = Normal(bias_mu, bias_std)\n",
    "    priors = { 'linear.weight': weight_prior, 'linear.bias': bias_prior }\n",
    "    \n",
    "    lifted_module = pyro.random_module(\"module\", regression, priors)\n",
    "    \n",
    "    lifted_model = lifted_module()\n",
    "    \n",
    "    pred_mean = lifted_model(X).squeeze()\n",
    "    \n",
    "    pyro.sample(\"obs\", Normal(pred_mean, Variable(0.1* torch.ones(X.size(0)))), obs=Y.squeeze())"
   ]
  }
 ],
 "metadata": {
  "kernelspec": {
   "display_name": "Python (3.6.4)",
   "language": "python",
   "name": "3.6.4"
  },
  "language_info": {
   "codemirror_mode": {
    "name": "ipython",
    "version": 3
   },
   "file_extension": ".py",
   "mimetype": "text/x-python",
   "name": "python",
   "nbconvert_exporter": "python",
   "pygments_lexer": "ipython3",
   "version": "3.6.4"
  }
 },
 "nbformat": 4,
 "nbformat_minor": 2
}
