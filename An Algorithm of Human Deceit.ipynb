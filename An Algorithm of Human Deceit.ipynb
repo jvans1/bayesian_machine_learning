{
 "cells": [
  {
   "cell_type": "markdown",
   "metadata": {
    "colab_type": "text",
    "id": "9GyCeSObByK2"
   },
   "source": [
    "# Bayesian Methods for Hackers with Pyro"
   ]
  },
  {
   "cell_type": "markdown",
   "metadata": {
    "colab_type": "text",
    "id": "4CY0T1BYCqWm"
   },
   "source": [
    "Porting examples from Cam Davidson-Pilon's excellent [Bayesian Methods for Hackers](https://github.com/CamDavidsonPilon/Probabilistic-Programming-and-Bayesian-Methods-for-Hackers) to Uber's Deep Universal Probabilistic Programming language [Pyro](http://pyro.ai/) for fun and profit."
   ]
  },
  {
   "cell_type": "markdown",
   "metadata": {
    "colab_type": "text",
    "id": "LlGs12E6CmyP"
   },
   "source": [
    "## Setup"
   ]
  },
  {
   "cell_type": "code",
   "execution_count": 0,
   "metadata": {
    "cellView": "code",
    "colab": {
     "autoexec": {
      "startup": false,
      "wait_interval": 0
     },
     "base_uri": "https://localhost:8080/",
     "height": 734
    },
    "colab_type": "code",
    "executionInfo": {
     "elapsed": 13519,
     "status": "ok",
     "timestamp": 1530195357763,
     "user": {
      "displayName": "Tiger Shen",
      "photoUrl": "https://lh3.googleusercontent.com/a/default-user=s128",
      "userId": "102068066460820452741"
     },
     "user_tz": 360
    },
    "id": "SWH2oiWUCoqb",
    "outputId": "0e7cb34a-8dc2-42de-bdad-cb0d86d60929"
   },
   "outputs": [
    {
     "name": "stdout",
     "output_type": "stream",
     "text": [
      "Requirement already satisfied: torchvision in /usr/local/lib/python3.6/dist-packages (0.2.1)\r\n",
      "Requirement already satisfied: torch in /usr/local/lib/python3.6/dist-packages (from torchvision) (0.4.0)\r\n",
      "Requirement already satisfied: pillow>=4.1.1 in /usr/local/lib/python3.6/dist-packages (from torchvision) (5.1.0)\r\n",
      "Requirement already satisfied: numpy in /usr/local/lib/python3.6/dist-packages (from torchvision) (1.14.5)\r\n",
      "Requirement already satisfied: six in /usr/local/lib/python3.6/dist-packages (from torchvision) (1.11.0)\n",
      "Requirement already satisfied: pyro-ppl in /usr/local/lib/python3.6/dist-packages (0.2.1)\n",
      "Requirement already satisfied: networkx>=2.0.0 in /usr/local/lib/python3.6/dist-packages (from pyro-ppl) (2.1)\n",
      "Requirement already satisfied: torch>=0.4.0 in /usr/local/lib/python3.6/dist-packages (from pyro-ppl) (0.4.0)\n",
      "Requirement already satisfied: numpy>=1.7 in /usr/local/lib/python3.6/dist-packages (from pyro-ppl) (1.14.5)\n",
      "Requirement already satisfied: contextlib2 in /usr/local/lib/python3.6/dist-packages (from pyro-ppl) (0.5.5)\n",
      "Requirement already satisfied: six>=1.10.0 in /usr/local/lib/python3.6/dist-packages (from pyro-ppl) (1.11.0)\n",
      "Requirement already satisfied: graphviz>=0.8 in /usr/local/lib/python3.6/dist-packages (from pyro-ppl) (0.8.3)\n",
      "Requirement already satisfied: decorator>=4.1.0 in /usr/local/lib/python3.6/dist-packages (from networkx>=2.0.0->pyro-ppl) (4.3.0)\n",
      "Requirement already satisfied: visdom in /usr/local/lib/python3.6/dist-packages (0.1.8.3)\n",
      "Requirement already satisfied: tornado in /usr/local/lib/python3.6/dist-packages (from visdom) (4.5.3)\n",
      "Requirement already satisfied: requests in /usr/local/lib/python3.6/dist-packages (from visdom) (2.18.4)\n",
      "Requirement already satisfied: torchfile in /usr/local/lib/python3.6/dist-packages (from visdom) (0.1.0)\n",
      "Requirement already satisfied: websocket-client in /usr/local/lib/python3.6/dist-packages (from visdom) (0.48.0)\n",
      "Requirement already satisfied: pyzmq in /usr/local/lib/python3.6/dist-packages (from visdom) (16.0.4)\n",
      "Requirement already satisfied: six in /usr/local/lib/python3.6/dist-packages (from visdom) (1.11.0)\n",
      "Requirement already satisfied: numpy>=1.8 in /usr/local/lib/python3.6/dist-packages (from visdom) (1.14.5)\n",
      "Requirement already satisfied: scipy in /usr/local/lib/python3.6/dist-packages (from visdom) (0.19.1)\n",
      "Requirement already satisfied: pillow in /usr/local/lib/python3.6/dist-packages (from visdom) (5.1.0)\n",
      "Requirement already satisfied: chardet<3.1.0,>=3.0.2 in /usr/local/lib/python3.6/dist-packages (from requests->visdom) (3.0.4)\n",
      "Requirement already satisfied: urllib3<1.23,>=1.21.1 in /usr/local/lib/python3.6/dist-packages (from requests->visdom) (1.22)\n",
      "Requirement already satisfied: idna<2.7,>=2.5 in /usr/local/lib/python3.6/dist-packages (from requests->visdom) (2.6)\n",
      "Requirement already satisfied: certifi>=2017.4.17 in /usr/local/lib/python3.6/dist-packages (from requests->visdom) (2018.4.16)\n",
      "Requirement already satisfied: ipdb in /usr/local/lib/python3.6/dist-packages (0.11)\n",
      "Requirement already satisfied: setuptools in /usr/local/lib/python3.6/dist-packages (from ipdb) (39.1.0)\n",
      "Requirement already satisfied: ipython>=5.0.0; python_version >= \"3.3\" in /usr/local/lib/python3.6/dist-packages (from ipdb) (5.5.0)\n",
      "Requirement already satisfied: pexpect; sys_platform != \"win32\" in /usr/local/lib/python3.6/dist-packages (from ipython>=5.0.0; python_version >= \"3.3\"->ipdb) (4.6.0)\n",
      "Requirement already satisfied: simplegeneric>0.8 in /usr/local/lib/python3.6/dist-packages (from ipython>=5.0.0; python_version >= \"3.3\"->ipdb) (0.8.1)\n",
      "Requirement already satisfied: pickleshare in /usr/local/lib/python3.6/dist-packages (from ipython>=5.0.0; python_version >= \"3.3\"->ipdb) (0.7.4)\n",
      "Requirement already satisfied: pygments in /usr/local/lib/python3.6/dist-packages (from ipython>=5.0.0; python_version >= \"3.3\"->ipdb) (2.1.3)\n",
      "Requirement already satisfied: decorator in /usr/local/lib/python3.6/dist-packages (from ipython>=5.0.0; python_version >= \"3.3\"->ipdb) (4.3.0)\n",
      "Requirement already satisfied: traitlets>=4.2 in /usr/local/lib/python3.6/dist-packages (from ipython>=5.0.0; python_version >= \"3.3\"->ipdb) (4.3.2)\n",
      "Requirement already satisfied: prompt-toolkit<2.0.0,>=1.0.4 in /usr/local/lib/python3.6/dist-packages (from ipython>=5.0.0; python_version >= \"3.3\"->ipdb) (1.0.15)\n",
      "Requirement already satisfied: ptyprocess>=0.5 in /usr/local/lib/python3.6/dist-packages (from pexpect; sys_platform != \"win32\"->ipython>=5.0.0; python_version >= \"3.3\"->ipdb) (0.6.0)\n",
      "Requirement already satisfied: ipython-genutils in /usr/local/lib/python3.6/dist-packages (from traitlets>=4.2->ipython>=5.0.0; python_version >= \"3.3\"->ipdb) (0.2.0)\n",
      "Requirement already satisfied: six in /usr/local/lib/python3.6/dist-packages (from traitlets>=4.2->ipython>=5.0.0; python_version >= \"3.3\"->ipdb) (1.11.0)\n",
      "Requirement already satisfied: wcwidth in /usr/local/lib/python3.6/dist-packages (from prompt-toolkit<2.0.0,>=1.0.4->ipython>=5.0.0; python_version >= \"3.3\"->ipdb) (0.1.7)\n"
     ]
    }
   ],
   "source": [
    "#@title Default title text\n",
    "# Colab package installations\n",
    "from os import path\n",
    "from wheel.pep425tags import get_abbr_impl, get_impl_ver, get_abi_tag\n",
    "platform = '{}{}-{}'.format(get_abbr_impl(), get_impl_ver(), get_abi_tag())\n",
    "\n",
    "accelerator = 'cu80' if path.exists('/opt/bin/nvidia-smi') else 'cpu'\n",
    "\n",
    "!pip3 install -q http://download.pytorch.org/whl/{accelerator}/torch-0.4.0-{platform}-linux_x86_64.whl torchvision\n",
    "!pip3 install torchvision\n",
    "!pip3 install pyro-ppl\n",
    "!pip3 install visdom\n",
    "!pip3 install ipdb"
   ]
  },
  {
   "cell_type": "code",
   "execution_count": 0,
   "metadata": {
    "colab": {
     "autoexec": {
      "startup": false,
      "wait_interval": 0
     }
    },
    "colab_type": "code",
    "id": "8JROyxtgDkDf"
   },
   "outputs": [],
   "source": [
    "# Imports\n",
    "%matplotlib inline\n",
    "import numpy as np\n",
    "from scipy.stats import beta as beta_distribution, binom\n",
    "import matplotlib.pyplot as plot\n",
    "import torch\n",
    "import torch.nn as nn\n",
    "import pyro\n",
    "import pyro.distributions as dist\n",
    "import math\n",
    "import torch.distributions.constraints as constraints\n",
    "import random\n",
    "from pyro.distributions import Normal\n",
    "from pyro.infer import SVI, Trace_ELBO\n",
    "from pyro.optim import Adam"
   ]
  },
  {
   "cell_type": "markdown",
   "metadata": {
    "colab_type": "text",
    "id": "fYHLMX3BD92A"
   },
   "source": [
    "## The Privacy Algorithm"
   ]
  },
  {
   "cell_type": "markdown",
   "metadata": {
    "colab_type": "text",
    "id": "hivCawZJcQev"
   },
   "source": [
    "*For the Bayesian Methods for Hackers formulation and PyMC3 implementation, see [here](https://colab.research.google.com/drive/1M9D9djhjYcGHOFNi8L8W-YaaBboCCvOM#scrollTo=sE5Xf36pG_v1)*"
   ]
  },
  {
   "cell_type": "markdown",
   "metadata": {
    "colab_type": "text",
    "id": "buAF-mXecqzJ"
   },
   "source": [
    "No student, even with a free-pass against punishment, would admit to cheating. What we need is a better algorithm to ask students if they had cheated. Ideally the algorithm should encourage individuals to be honest while preserving privacy. The following proposed algorithm is a solution I greatly admire for its ingenuity and effectiveness:\n",
    "\n",
    "> In the interview process for each student, the student flips a coin, hidden from the interviewer. The student agrees to answer honestly if the coin comes up heads. Otherwise, if the coin comes up tails, the student (secretly) flips the coin again, and answers \"Yes, I did cheat\" if the coin flip lands heads, and \"No, I did not cheat\", if the coin flip lands tails. This way, the interviewer does not know if a \"Yes\" was the result of a guilty plea, or a Heads on a second coin toss. Thus privacy is preserved and the researchers receive honest answers.\n",
    "\n",
    "I call this the Privacy Algorithm. One could of course argue that the interviewers are still receiving false data since some Yes's are not confessions but instead randomness, but an alternative perspective is that the researchers are discarding approximately half of their original dataset since half of the responses will be noise. But they have gained a systematic data generation process that can be modeled. Furthermore, they do not have to incorporate (perhaps somewhat naively) the possibility of deceitful answers."
   ]
  },
  {
   "cell_type": "markdown",
   "metadata": {
    "colab_type": "text",
    "id": "9ZuhIkGpcnKU"
   },
   "source": [
    "### Rough plan\n",
    "\n"
   ]
  },
  {
   "cell_type": "code",
   "execution_count": 0,
   "metadata": {
    "colab": {
     "autoexec": {
      "startup": false,
      "wait_interval": 0
     }
    },
    "colab_type": "code",
    "id": "VBzrVPFscQAV"
   },
   "outputs": [],
   "source": [
    "def print_progress(step):\n",
    "    # grab the learned variational parameters\n",
    "    alpha = pyro.param(\"alpha\").item()\n",
    "    beta = pyro.param(\"beta\").item()\n",
    "\n",
    "    # here we use some facts about the beta distribution\n",
    "    # compute the inferred mean of the coin's fairness\n",
    "    inferred_mean = alpha / (alpha + beta)\n",
    "    # compute inferred standard deviation\n",
    "    factor = beta / (alpha * (1.0 + alpha + beta))\n",
    "    inferred_std = inferred_mean * math.sqrt(factor)\n",
    "    print(\"\\n[step %i] based on the data and our prior belief\\\n",
    "    , the probability of a student cheating is %.3f +- %.3f\" % (step, inferred_mean, inferred_std))  \n",
    "    \n",
    "    \n",
    "def display_graph(alpha_param, beta_param):\n",
    "    x = np.linspace(beta_distribution.ppf(0.001, alpha_param, beta_param, loc=0), beta_distribution.ppf(0.999, alpha_param, beta_param))\n",
    "    y = beta_distribution.pdf(x, alpha_param, beta_param)\n",
    "\n",
    "    fig, ax = plot.subplots(1, 1)\n",
    "    posterior, = ax.plot(x, y, 'b-', label=\"cheating frequency pdf\")\n",
    "\n",
    "    ax.legend(handles=[posterior])\n",
    "\n",
    "#Build Model:\n",
    "  #frequency_cheating = uniform_distribution\n",
    "  #true_answers = bernoulli(prior_frequency_cheating, N)#starting sample value?(testval)\n",
    "  #first_coin_flips = bernoulli(0.5, N)#starting sample value?(testval)\n",
    "  #second_coin_flips = bernoulli(0.5 N)\n",
    "  #observed_trues = first_coin_flips * true_answers + ( 1- first_coin_flips) * second_coin_flipsl\n",
    "  #observed_proportion = sum(observed_trues) / N\n",
    "  \n",
    "#Incorporate Observations:\n",
    " ## #observations = binomial(N, observed_proportion, observations)\n",
    "#Run inference\n",
    "#Print $$$\n",
    "\n",
    "# result: cheating_frequency posterior"
   ]
  },
  {
   "cell_type": "markdown",
   "metadata": {
    "colab_type": "text",
    "id": "eECphgmkllgA"
   },
   "source": [
    "### Bernoulli Model\n"
   ]
  },
  {
   "cell_type": "markdown",
   "metadata": {},
   "source": [
    "\n",
    "$$ cheating\\_frequency \\thicksim Beta(alpha, beta) $$\n",
    "$$ true\\_cheater = 0.5 * cheating\\_frequency $$\n",
    "$$ false\\_positive = 0.5 * 0.5 $$\n",
    "$$ probability\\_of\\_yes = true\\_cheater + false\\_positive $$\n",
    "$$probability\\_of\\_yes = true\\_cheater + 0.25 $$"
   ]
  },
  {
   "cell_type": "markdown",
   "metadata": {},
   "source": []
  },
  {
   "cell_type": "code",
   "execution_count": 0,
   "metadata": {
    "colab": {
     "autoexec": {
      "startup": false,
      "wait_interval": 0
     },
     "base_uri": "https://localhost:8080/",
     "height": 1745
    },
    "colab_type": "code",
    "executionInfo": {
     "elapsed": 246718,
     "status": "ok",
     "timestamp": 1526740689510,
     "user": {
      "displayName": "James Vanneman",
      "photoUrl": "//lh4.googleusercontent.com/-A1mjirtxH3Y/AAAAAAAAAAI/AAAAAAAAMII/n6tAKP-sFZA/s50-c-k-no/photo.jpg",
      "userId": "116056241701990139565"
     },
     "user_tz": 420
    },
    "id": "6vAgwel7loXG",
    "outputId": "54f294a8-327c-4fa0-c3b3-c09da9008b7e"
   },
   "outputs": [
    {
     "name": "stdout",
     "output_type": "stream",
     "text": [
      "\n",
      "[step 0] based on the data and our prior belief, the probability of a student cheating is 0.500 +- 0.109\n",
      "\n",
      "[step 100] based on the data and our prior belief, the probability of a student cheating is 0.476 +- 0.109\n",
      "\n",
      "[step 200] based on the data and our prior belief, the probability of a student cheating is 0.456 +- 0.109\n",
      "\n",
      "[step 300] based on the data and our prior belief, the probability of a student cheating is 0.435 +- 0.108\n",
      "\n",
      "[step 400] based on the data and our prior belief, the probability of a student cheating is 0.415 +- 0.107\n",
      "\n",
      "[step 500] based on the data and our prior belief, the probability of a student cheating is 0.399 +- 0.106\n",
      "\n",
      "[step 600] based on the data and our prior belief, the probability of a student cheating is 0.382 +- 0.105\n",
      "\n",
      "[step 700] based on the data and our prior belief, the probability of a student cheating is 0.366 +- 0.104\n",
      "\n",
      "[step 800] based on the data and our prior belief, the probability of a student cheating is 0.352 +- 0.102\n",
      "\n",
      "[step 900] based on the data and our prior belief, the probability of a student cheating is 0.338 +- 0.101\n",
      "\n",
      "[step 1000] based on the data and our prior belief, the probability of a student cheating is 0.326 +- 0.100\n",
      "\n",
      "[step 1100] based on the data and our prior belief, the probability of a student cheating is 0.315 +- 0.099\n",
      "\n",
      "[step 1200] based on the data and our prior belief, the probability of a student cheating is 0.304 +- 0.097\n",
      "\n",
      "[step 1300] based on the data and our prior belief, the probability of a student cheating is 0.298 +- 0.096\n",
      "\n",
      "[step 1400] based on the data and our prior belief, the probability of a student cheating is 0.291 +- 0.095\n",
      "\n",
      "[step 1500] based on the data and our prior belief, the probability of a student cheating is 0.283 +- 0.094\n",
      "\n",
      "[step 1600] based on the data and our prior belief, the probability of a student cheating is 0.274 +- 0.093\n",
      "\n",
      "[step 1700] based on the data and our prior belief, the probability of a student cheating is 0.267 +- 0.092\n",
      "\n",
      "[step 1800] based on the data and our prior belief, the probability of a student cheating is 0.262 +- 0.091\n",
      "\n",
      "[step 1900] based on the data and our prior belief, the probability of a student cheating is 0.258 +- 0.091\n",
      "\n",
      "[step 2000] based on the data and our prior belief, the probability of a student cheating is 0.251 +- 0.090\n",
      "\n",
      "[step 2100] based on the data and our prior belief, the probability of a student cheating is 0.246 +- 0.089\n",
      "\n",
      "[step 2200] based on the data and our prior belief, the probability of a student cheating is 0.243 +- 0.088\n",
      "\n",
      "[step 2300] based on the data and our prior belief, the probability of a student cheating is 0.239 +- 0.087\n",
      "\n",
      "[step 2400] based on the data and our prior belief, the probability of a student cheating is 0.237 +- 0.087\n",
      "\n",
      "[step 2500] based on the data and our prior belief, the probability of a student cheating is 0.233 +- 0.086\n",
      "\n",
      "[step 2600] based on the data and our prior belief, the probability of a student cheating is 0.231 +- 0.086\n",
      "\n",
      "[step 2700] based on the data and our prior belief, the probability of a student cheating is 0.228 +- 0.086\n",
      "\n",
      "[step 2800] based on the data and our prior belief, the probability of a student cheating is 0.225 +- 0.085\n",
      "\n",
      "[step 2900] based on the data and our prior belief, the probability of a student cheating is 0.224 +- 0.085\n",
      "\n",
      "[step 3000] based on the data and our prior belief, the probability of a student cheating is 0.222 +- 0.084\n",
      "\n",
      "[step 3100] based on the data and our prior belief, the probability of a student cheating is 0.222 +- 0.085\n",
      "\n",
      "[step 3200] based on the data and our prior belief, the probability of a student cheating is 0.222 +- 0.085\n",
      "\n",
      "[step 3300] based on the data and our prior belief, the probability of a student cheating is 0.222 +- 0.085\n",
      "\n",
      "[step 3400] based on the data and our prior belief, the probability of a student cheating is 0.220 +- 0.084\n",
      "\n",
      "[step 3500] based on the data and our prior belief, the probability of a student cheating is 0.216 +- 0.084\n",
      "\n",
      "[step 3600] based on the data and our prior belief, the probability of a student cheating is 0.215 +- 0.083\n",
      "\n",
      "[step 3700] based on the data and our prior belief, the probability of a student cheating is 0.215 +- 0.083\n",
      "\n",
      "[step 3800] based on the data and our prior belief, the probability of a student cheating is 0.213 +- 0.083\n",
      "\n",
      "[step 3900] based on the data and our prior belief, the probability of a student cheating is 0.212 +- 0.083\n",
      "\n",
      "[step 4000] based on the data and our prior belief, the probability of a student cheating is 0.214 +- 0.083\n",
      "\n",
      "[step 4100] based on the data and our prior belief, the probability of a student cheating is 0.213 +- 0.083\n",
      "\n",
      "[step 4200] based on the data and our prior belief, the probability of a student cheating is 0.213 +- 0.083\n",
      "\n",
      "[step 4300] based on the data and our prior belief, the probability of a student cheating is 0.213 +- 0.083\n",
      "\n",
      "[step 4400] based on the data and our prior belief, the probability of a student cheating is 0.213 +- 0.083\n",
      "\n",
      "[step 4500] based on the data and our prior belief, the probability of a student cheating is 0.214 +- 0.084\n",
      "\n",
      "[step 4600] based on the data and our prior belief, the probability of a student cheating is 0.213 +- 0.083\n",
      "\n",
      "[step 4700] based on the data and our prior belief, the probability of a student cheating is 0.212 +- 0.083\n",
      "\n",
      "[step 4800] based on the data and our prior belief, the probability of a student cheating is 0.212 +- 0.083\n",
      "\n",
      "[step 4900] based on the data and our prior belief, the probability of a student cheating is 0.214 +- 0.084\n"
     ]
    }
   ],
   "source": [
    "N = 100\n",
    "n_steps = 5000\n",
    "\n",
    "data = torch.cat((torch.ones(35, 1), torch.zeros(65, 1)))\n",
    "pyro.clear_param_store()\n",
    "\n",
    "\n",
    "def model(data):\n",
    "    cheating_frequency = pyro.sample(\n",
    "     'cheating_frequency',\n",
    "      dist.Uniform(0, 1)\n",
    "  )\n",
    "    probability_of_true_answer = 0.5 * cheating_frequency + 0.25\n",
    "    for i in range(len(data)):\n",
    "        pyro.sample(\"obs_{}\".format(i), dist.Bernoulli(probs=probability_of_true_answer), obs=data[i])\n",
    "\n",
    "def guide(data):\n",
    "    alpha = pyro.param('alpha', torch.tensor(10.0), constraint=constraints.positive)\n",
    "    beta = pyro.param('beta', torch.tensor(10.0), constraint=constraints.positive)\n",
    "    cheating_frequency = pyro.sample(\n",
    "     'cheating_frequency',\n",
    "      dist.Beta(alpha, beta)\n",
    "    )  \n",
    "    \n",
    "# setup the optimizer\n",
    "adam_params = {\"lr\": 0.0005, \"betas\": (0.90, 0.999)}\n",
    "optimizer = Adam(adam_params)\n",
    "\n",
    "# setup the inference algorithm\n",
    "svi = SVI(model, guide, optimizer, loss=Trace_ELBO())\n",
    "\n",
    "\n",
    "\n",
    "#do gradient steps\n",
    "for step in range(n_steps):\n",
    "    svi.step(data)\n",
    "    if step % 100 == 0:\n",
    "        print_progress(step)"
   ]
  },
  {
   "cell_type": "code",
   "execution_count": 0,
   "metadata": {
    "colab": {
     "autoexec": {
      "startup": false,
      "wait_interval": 0
     },
     "base_uri": "https://localhost:8080/",
     "height": 268
    },
    "colab_type": "code",
    "executionInfo": {
     "elapsed": 464,
     "status": "ok",
     "timestamp": 1526740766631,
     "user": {
      "displayName": "James Vanneman",
      "photoUrl": "//lh4.googleusercontent.com/-A1mjirtxH3Y/AAAAAAAAAAI/AAAAAAAAMII/n6tAKP-sFZA/s50-c-k-no/photo.jpg",
      "userId": "116056241701990139565"
     },
     "user_tz": 420
    },
    "id": "XiZiGn7J0uCv",
    "outputId": "8c1f77e6-816b-4660-a4b2-7521df3f26db"
   },
   "outputs": [
    {
     "data": {
      "image/png": "[encoded data removed]",
      "text/plain": [
       "<matplotlib.figure.Figure at 0x7fb4ac2b1a58>"
      ]
     },
     "metadata": {
      "tags": []
     },
     "output_type": "display_data"
    }
   ],
   "source": [
    "def display_graph(alpha_param, beta_param):\n",
    "    x = np.linspace(beta_distribution.ppf(0.001, alpha_param, beta_param, loc=0), \n",
    "                    beta_distribution.ppf(0.999, alpha_param, beta_param))\n",
    "    y = beta_distribution.pdf(x, alpha_param, beta_param)\n",
    "\n",
    "    fig, ax = plot.subplots(1, 1)\n",
    "    posterior, = ax.plot(x, y, 'b-', label=\"cheating frequency pdf\")\n",
    "\n",
    "    ax.legend(handles=[posterior])\n",
    "    \n",
    "display_graph(pyro.param(\"alpha\").item(), pyro.param(\"beta\").item())"
   ]
  },
  {
   "cell_type": "markdown",
   "metadata": {
    "colab_type": "text",
    "id": "4-1IbBk_D0jA"
   },
   "source": [
    "### Binomial Model"
   ]
  },
  {
   "cell_type": "code",
   "execution_count": 0,
   "metadata": {
    "colab": {
     "autoexec": {
      "startup": false,
      "wait_interval": 0
     },
     "base_uri": "https://localhost:8080/",
     "height": 1745
    },
    "colab_type": "code",
    "executionInfo": {
     "elapsed": 13229,
     "status": "ok",
     "timestamp": 1526327010320,
     "user": {
      "displayName": "James Vanneman",
      "photoUrl": "//lh4.googleusercontent.com/-A1mjirtxH3Y/AAAAAAAAAAI/AAAAAAAAMII/n6tAKP-sFZA/s50-c-k-no/photo.jpg",
      "userId": "116056241701990139565"
     },
     "user_tz": 420
    },
    "id": "EuewwHw_D2h6",
    "outputId": "9b234915-7829-4981-d485-a6c8c9523d95"
   },
   "outputs": [
    {
     "name": "stdout",
     "output_type": "stream",
     "text": [
      "\n",
      "[step 0] based on the data and our prior belief, the probability of a student cheating is 0.500 +- 0.109\n",
      "\n",
      "[step 100] based on the data and our prior belief, the probability of a student cheating is 0.478 +- 0.109\n",
      "\n",
      "[step 200] based on the data and our prior belief, the probability of a student cheating is 0.456 +- 0.109\n",
      "\n",
      "[step 300] based on the data and our prior belief, the probability of a student cheating is 0.435 +- 0.108\n",
      "\n",
      "[step 400] based on the data and our prior belief, the probability of a student cheating is 0.416 +- 0.107\n",
      "\n",
      "[step 500] based on the data and our prior belief, the probability of a student cheating is 0.399 +- 0.106\n",
      "\n",
      "[step 600] based on the data and our prior belief, the probability of a student cheating is 0.381 +- 0.105\n",
      "\n",
      "[step 700] based on the data and our prior belief, the probability of a student cheating is 0.366 +- 0.104\n",
      "\n",
      "[step 800] based on the data and our prior belief, the probability of a student cheating is 0.352 +- 0.102\n",
      "\n",
      "[step 900] based on the data and our prior belief, the probability of a student cheating is 0.340 +- 0.101\n",
      "\n",
      "[step 1000] based on the data and our prior belief, the probability of a student cheating is 0.329 +- 0.100\n",
      "\n",
      "[step 1100] based on the data and our prior belief, the probability of a student cheating is 0.318 +- 0.099\n",
      "\n",
      "[step 1200] based on the data and our prior belief, the probability of a student cheating is 0.309 +- 0.098\n",
      "\n",
      "[step 1300] based on the data and our prior belief, the probability of a student cheating is 0.298 +- 0.097\n",
      "\n",
      "[step 1400] based on the data and our prior belief, the probability of a student cheating is 0.289 +- 0.095\n",
      "\n",
      "[step 1500] based on the data and our prior belief, the probability of a student cheating is 0.282 +- 0.094\n",
      "\n",
      "[step 1600] based on the data and our prior belief, the probability of a student cheating is 0.276 +- 0.094\n",
      "\n",
      "[step 1700] based on the data and our prior belief, the probability of a student cheating is 0.268 +- 0.092\n",
      "\n",
      "[step 1800] based on the data and our prior belief, the probability of a student cheating is 0.263 +- 0.091\n",
      "\n",
      "[step 1900] based on the data and our prior belief, the probability of a student cheating is 0.258 +- 0.091\n",
      "\n",
      "[step 2000] based on the data and our prior belief, the probability of a student cheating is 0.252 +- 0.090\n",
      "\n",
      "[step 2100] based on the data and our prior belief, the probability of a student cheating is 0.248 +- 0.089\n",
      "\n",
      "[step 2200] based on the data and our prior belief, the probability of a student cheating is 0.244 +- 0.088\n",
      "\n",
      "[step 2300] based on the data and our prior belief, the probability of a student cheating is 0.241 +- 0.088\n",
      "\n",
      "[step 2400] based on the data and our prior belief, the probability of a student cheating is 0.237 +- 0.087\n",
      "\n",
      "[step 2500] based on the data and our prior belief, the probability of a student cheating is 0.235 +- 0.087\n",
      "\n",
      "[step 2600] based on the data and our prior belief, the probability of a student cheating is 0.232 +- 0.086\n",
      "\n",
      "[step 2700] based on the data and our prior belief, the probability of a student cheating is 0.230 +- 0.086\n",
      "\n",
      "[step 2800] based on the data and our prior belief, the probability of a student cheating is 0.227 +- 0.085\n",
      "\n",
      "[step 2900] based on the data and our prior belief, the probability of a student cheating is 0.225 +- 0.085\n",
      "\n",
      "[step 3000] based on the data and our prior belief, the probability of a student cheating is 0.222 +- 0.085\n",
      "\n",
      "[step 3100] based on the data and our prior belief, the probability of a student cheating is 0.223 +- 0.085\n",
      "\n",
      "[step 3200] based on the data and our prior belief, the probability of a student cheating is 0.221 +- 0.084\n",
      "\n",
      "[step 3300] based on the data and our prior belief, the probability of a student cheating is 0.220 +- 0.084\n",
      "\n",
      "[step 3400] based on the data and our prior belief, the probability of a student cheating is 0.218 +- 0.084\n",
      "\n",
      "[step 3500] based on the data and our prior belief, the probability of a student cheating is 0.217 +- 0.084\n",
      "\n",
      "[step 3600] based on the data and our prior belief, the probability of a student cheating is 0.217 +- 0.084\n",
      "\n",
      "[step 3700] based on the data and our prior belief, the probability of a student cheating is 0.217 +- 0.084\n",
      "\n",
      "[step 3800] based on the data and our prior belief, the probability of a student cheating is 0.216 +- 0.084\n",
      "\n",
      "[step 3900] based on the data and our prior belief, the probability of a student cheating is 0.215 +- 0.083\n",
      "\n",
      "[step 4000] based on the data and our prior belief, the probability of a student cheating is 0.213 +- 0.083\n",
      "\n",
      "[step 4100] based on the data and our prior belief, the probability of a student cheating is 0.213 +- 0.083\n",
      "\n",
      "[step 4200] based on the data and our prior belief, the probability of a student cheating is 0.213 +- 0.083\n",
      "\n",
      "[step 4300] based on the data and our prior belief, the probability of a student cheating is 0.214 +- 0.083\n",
      "\n",
      "[step 4400] based on the data and our prior belief, the probability of a student cheating is 0.214 +- 0.083\n",
      "\n",
      "[step 4500] based on the data and our prior belief, the probability of a student cheating is 0.214 +- 0.084\n",
      "\n",
      "[step 4600] based on the data and our prior belief, the probability of a student cheating is 0.214 +- 0.084\n",
      "\n",
      "[step 4700] based on the data and our prior belief, the probability of a student cheating is 0.213 +- 0.083\n",
      "\n",
      "[step 4800] based on the data and our prior belief, the probability of a student cheating is 0.213 +- 0.083\n",
      "\n",
      "[step 4900] based on the data and our prior belief, the probability of a student cheating is 0.214 +- 0.084\n"
     ]
    }
   ],
   "source": [
    "N = 100\n",
    "n_steps = 5000\n",
    "\n",
    "data = torch.cat((torch.ones(35, 1), torch.zeros(65, 1)))\n",
    "\n",
    "pyro.clear_param_store()\n",
    "def model(data):\n",
    "  cheating_frequency = pyro.sample(\n",
    "     'cheating_frequency',\n",
    "      dist.Uniform(0, 1)\n",
    "  )\n",
    "  probability_of_true_answer = 0.5 * cheating_frequency + 0.25\n",
    "  pyro.sample(\"obs\", dist.Binomial(N, probs=probability_of_true_answer), obs=data.sum())\n",
    "  \n",
    "\n",
    "def guide(data):\n",
    "  alpha = pyro.param('alpha', torch.tensor(10.0), constraint=constraints.positive)\n",
    "  beta = pyro.param('beta', torch.tensor(10.0), constraint=constraints.positive)\n",
    "  cheating_frequency = pyro.sample(\n",
    "     'cheating_frequency',\n",
    "      dist.Beta(alpha, beta)\n",
    "  )\n",
    "# setup the optimizer\n",
    "adam_params = {\"lr\": 0.0005, \"betas\": (0.90, 0.999)}\n",
    "optimizer = Adam(adam_params)\n",
    "\n",
    "# setup the inference algorithm\n",
    "svi = SVI(model, guide, optimizer, loss=Trace_ELBO())\n",
    "\n",
    "# do gradient steps\n",
    "for step in range(n_steps):\n",
    "  svi.step(data)\n",
    "  if step % 100 == 0:\n",
    "    print_progress(step)"
   ]
  },
  {
   "cell_type": "code",
   "execution_count": 0,
   "metadata": {
    "colab": {
     "autoexec": {
      "startup": false,
      "wait_interval": 0
     },
     "base_uri": "https://localhost:8080/",
     "height": 285
    },
    "colab_type": "code",
    "executionInfo": {
     "elapsed": 572,
     "status": "ok",
     "timestamp": 1526327016107,
     "user": {
      "displayName": "James Vanneman",
      "photoUrl": "//lh4.googleusercontent.com/-A1mjirtxH3Y/AAAAAAAAAAI/AAAAAAAAMII/n6tAKP-sFZA/s50-c-k-no/photo.jpg",
      "userId": "116056241701990139565"
     },
     "user_tz": 420
    },
    "id": "G0sDsvX3FFQ7",
    "outputId": "388af9eb-cf37-44f2-854b-a949f4a45abb"
   },
   "outputs": [
    {
     "data": {
      "text/plain": [
       "<matplotlib.legend.Legend at 0x7f1097aebac8>"
      ]
     },
     "execution_count": 21,
     "metadata": {
      "tags": []
     },
     "output_type": "execute_result"
    },
    {
     "data": {
      "image/png": "[encoded data removed]",
      "text/plain": [
       "<matplotlib.figure.Figure at 0x7f109a3f4470>"
      ]
     },
     "metadata": {
      "tags": []
     },
     "output_type": "display_data"
    }
   ],
   "source": [
    "display_graph(pyro.param(\"alpha\").item(), pyro.param(\"beta\").item())"
   ]
  },
  {
   "cell_type": "code",
   "execution_count": 0,
   "metadata": {
    "colab": {
     "autoexec": {
      "startup": false,
      "wait_interval": 0
     }
    },
    "colab_type": "code",
    "id": "n6_N-4WlLCqY"
   },
   "outputs": [],
   "source": []
  },
  {
   "cell_type": "markdown",
   "metadata": {
    "colab_type": "text",
    "id": "dZBta02ggcbH"
   },
   "source": [
    "### Binomial Model with sampled coin flips\n"
   ]
  },
  {
   "cell_type": "code",
   "execution_count": 0,
   "metadata": {
    "colab": {
     "autoexec": {
      "startup": false,
      "wait_interval": 0
     }
    },
    "colab_type": "code",
    "id": "kfGhJxP_giRl"
   },
   "outputs": [],
   "source": [
    "N = 100\n",
    "\n",
    "n_steps = 5000\n",
    "data = torch.cat((torch.ones(35, 1), torch.zeros(65, 1)))\n",
    "\n",
    "pyro.clear_param_store()\n",
    "def model(data):\n",
    "  cheating_frequency = pyro.sample(\n",
    "     'cheating_frequency',\n",
    "      dist.Uniform(0, 1)\n",
    "  )\n",
    "  \n",
    "  true_answers = []\n",
    "  first_flips  = []\n",
    "  second_flips = []  \n",
    "  for i in pyro.irange(\"coin_flipping\", len(data)):\n",
    "    true_answer = pyro.sample(\"true_answer_{}\".format(i), dist.Bernoulli(probs=cheating_frequency) )\n",
    "    true_answers.append(true_answer)\n",
    "    first_flip = pyro.sample(\"first_coin_flips_{}\".format(i), dist.Bernoulli(probs=0.5) )\n",
    "    first_flips.append(first_flip)\n",
    "    second_flip = pyro.sample(\"second_coin_flips_{}\".format(i), dist.Bernoulli(probs=0.5))\n",
    "    second_flips.append(second_flip)\n",
    "    \n",
    "  \n",
    "  true_answers = torch.tensor(true_answers)\n",
    "  first_coin_flips = torch.tensor(first_flips)\n",
    "  second_coin_flips = torch.tensor(second_flips)\n",
    "\n",
    "  observed_trues = first_coin_flips * true_answers + ( 1- first_coin_flips) * second_coin_flips\n",
    "  \n",
    "  observed_proportion = observed_trues.sum() / N\n",
    "  pyro.sample(\"obs\", dist.Binomial(probs=observed_proportion, total_count=len(data)), obs=data.sum())\n",
    "\n",
    "  \n",
    "def guide(data):\n",
    "  alpha = pyro.param('alpha', torch.tensor(10.0), constraint=constraints.positive)\n",
    "  beta = pyro.param('beta', torch.tensor(10.0), constraint=constraints.positive)\n",
    "  cheating_frequency = pyro.sample(\n",
    "     'cheating_frequency',\n",
    "      dist.Beta(alpha, beta)\n",
    "  )\n",
    "  for i in pyro.irange(\"coin_flipping\", len(data)):\n",
    "    pyro.sample(\"true_answer_{}\".format(i), dist.Bernoulli(probs=cheating_frequency) )\n",
    "    pyro.sample(\"first_coin_flips_{}\".format(i), dist.Bernoulli(probs=0.5) )\n",
    "    pyro.sample(\"second_coin_flips_{}\".format(i), dist.Bernoulli(probs=0.5))\n",
    "  \n",
    "# setup the optimizer\n",
    "adam_params = {\"lr\": 0.0015, \"betas\": (0.90, 0.999)}\n",
    "optimizer = Adam(adam_params)\n",
    "\n",
    "# setup the inference algorithm\n",
    "svi = SVI(model, guide, optimizer, loss=Trace_ELBO())\n",
    "\n",
    "# do gradient steps\n",
    "for step in range(n_steps):\n",
    "  svi.step(data)\n",
    "  if step % 100 == 0:\n",
    "    print_progress(step)"
   ]
  },
  {
   "cell_type": "code",
   "execution_count": 0,
   "metadata": {
    "colab": {
     "autoexec": {
      "startup": false,
      "wait_interval": 0
     },
     "base_uri": "https://localhost:8080/",
     "height": 283
    },
    "colab_type": "code",
    "executionInfo": {
     "elapsed": 559,
     "status": "ok",
     "timestamp": 1526655447334,
     "user": {
      "displayName": "James Vanneman",
      "photoUrl": "//lh4.googleusercontent.com/-A1mjirtxH3Y/AAAAAAAAAAI/AAAAAAAAMII/n6tAKP-sFZA/s50-c-k-no/photo.jpg",
      "userId": "116056241701990139565"
     },
     "user_tz": 420
    },
    "id": "0-EQExnlnR-f",
    "outputId": "391d9975-dbd7-4e63-9831-b252f61d2958"
   },
   "outputs": [
    {
     "data": {
      "text/plain": [
       "<matplotlib.legend.Legend at 0x7fcf2c458160>"
      ]
     },
     "execution_count": 12,
     "metadata": {
      "tags": []
     },
     "output_type": "execute_result"
    },
    {
     "data": {
      "image/png": "[encoded data removed]",
      "text/plain": [
       "<matplotlib.figure.Figure at 0x7fcf2c5e4908>"
      ]
     },
     "metadata": {
      "tags": []
     },
     "output_type": "display_data"
    }
   ],
   "source": [
    "display_graph(pyro.param(\"alpha\").item(), pyro.param(\"beta\").item())"
   ]
  },
  {
   "cell_type": "code",
   "execution_count": 0,
   "metadata": {
    "colab": {
     "autoexec": {
      "startup": false,
      "wait_interval": 0
     }
    },
    "colab_type": "code",
    "id": "tai61Cy1ur-e"
   },
   "outputs": [],
   "source": []
  },
  {
   "cell_type": "markdown",
   "metadata": {
    "colab_type": "text",
    "id": "xiNme3b3uto3"
   },
   "source": [
    "# Binomial Model using 'expand'"
   ]
  },
  {
   "cell_type": "code",
   "execution_count": 1,
   "metadata": {
    "colab": {
     "autoexec": {
      "startup": false,
      "wait_interval": 0
     },
     "base_uri": "https://localhost:8080/",
     "height": 3472
    },
    "colab_type": "code",
    "executionInfo": {
     "elapsed": 48597,
     "status": "ok",
     "timestamp": 1530196317179,
     "user": {
      "displayName": "James Vanneman",
      "photoUrl": "//lh4.googleusercontent.com/-A1mjirtxH3Y/AAAAAAAAAAI/AAAAAAAAMII/n6tAKP-sFZA/s50-c-k-no/photo.jpg",
      "userId": "116056241701990139565"
     },
     "user_tz": 420
    },
    "id": "1qzRNsgdux30",
    "outputId": "1adb3803-67df-441a-91c4-c83ebe32fb0c"
   },
   "outputs": [
    {
     "ename": "NameError",
     "evalue": "name 'torch' is not defined",
     "output_type": "error",
     "traceback": [
      "\u001b[0;31m---------------------------------------------------------------------------\u001b[0m",
      "\u001b[0;31mNameError\u001b[0m                                 Traceback (most recent call last)",
      "\u001b[0;32m<ipython-input-1-301a217b81bd>\u001b[0m in \u001b[0;36m<module>\u001b[0;34m()\u001b[0m\n\u001b[1;32m      1\u001b[0m \u001b[0mn_steps\u001b[0m \u001b[0;34m=\u001b[0m \u001b[0;36m10000\u001b[0m\u001b[0;34m\u001b[0m\u001b[0m\n\u001b[0;32m----> 2\u001b[0;31m \u001b[0mdata\u001b[0m \u001b[0;34m=\u001b[0m \u001b[0mtorch\u001b[0m\u001b[0;34m.\u001b[0m\u001b[0mcat\u001b[0m\u001b[0;34m(\u001b[0m\u001b[0;34m(\u001b[0m\u001b[0mtorch\u001b[0m\u001b[0;34m.\u001b[0m\u001b[0mones\u001b[0m\u001b[0;34m(\u001b[0m\u001b[0;36m35\u001b[0m\u001b[0;34m,\u001b[0m \u001b[0;36m1\u001b[0m\u001b[0;34m)\u001b[0m\u001b[0;34m,\u001b[0m \u001b[0mtorch\u001b[0m\u001b[0;34m.\u001b[0m\u001b[0mzeros\u001b[0m\u001b[0;34m(\u001b[0m\u001b[0;36m65\u001b[0m\u001b[0;34m,\u001b[0m \u001b[0;36m1\u001b[0m\u001b[0;34m)\u001b[0m\u001b[0;34m)\u001b[0m\u001b[0;34m)\u001b[0m\u001b[0;34m\u001b[0m\u001b[0m\n\u001b[0m\u001b[1;32m      3\u001b[0m \u001b[0;34m\u001b[0m\u001b[0m\n\u001b[1;32m      4\u001b[0m \u001b[0mpyro\u001b[0m\u001b[0;34m.\u001b[0m\u001b[0mclear_param_store\u001b[0m\u001b[0;34m(\u001b[0m\u001b[0;34m)\u001b[0m\u001b[0;34m\u001b[0m\u001b[0m\n\u001b[1;32m      5\u001b[0m \u001b[0;32mdef\u001b[0m \u001b[0mmodel\u001b[0m\u001b[0;34m(\u001b[0m\u001b[0mdata\u001b[0m\u001b[0;34m)\u001b[0m\u001b[0;34m:\u001b[0m\u001b[0;34m\u001b[0m\u001b[0m\n",
      "\u001b[0;31mNameError\u001b[0m: name 'torch' is not defined"
     ]
    }
   ],
   "source": [
    "n_steps = 10000\n",
    "data = torch.cat((torch.ones(35, 1), torch.zeros(65, 1)))\n",
    "\n",
    "pyro.clear_param_store()\n",
    "def model(data):\n",
    "    cheating_frequency = pyro.sample(\n",
    "     'cheating_frequency',\n",
    "      dist.Uniform(0, 1)\n",
    "    )\n",
    "\n",
    "    true_answers = pyro.sample(\"true_answers\", \n",
    "                                dist.Bernoulli(probs=cheating_frequency).expand(len(data)).independent(1))\n",
    "    first_coin_flips = pyro.sample(\"first_coin_flips\", \n",
    "                                dist.Bernoulli(probs=0.5).expand(len(data)).independent(1))\n",
    "    second_coin_flips = pyro.sample(\"second_coin_flips\", \n",
    "                                    dist.Bernoulli(probs=0.5).expand(len(data)).independent(1))\n",
    "\n",
    "    observed_trues = first_coin_flips * true_answers + (1 - first_coin_flips) * second_coin_flips\n",
    "\n",
    "    observed_proportion = observed_trues.sum() / len(data)\n",
    "    pyro.sample(\"obs\", dist.Binomial(probs=observed_proportion, total_count=len(data)), obs=data.sum())\n",
    "\n",
    "def guide(data):\n",
    "    alpha = pyro.param('alpha', torch.tensor(10.0), constraint=constraints.positive)\n",
    "    beta = pyro.param('beta', torch.tensor(10.0), constraint=constraints.positive)\n",
    "    cheating_frequency = pyro.sample(\n",
    "     'cheating_frequency',\n",
    "      dist.Beta(alpha, beta)\n",
    "  )\n",
    "    pyro.sample(\"true_answers\", \n",
    "                dist.Bernoulli(probs=cheating_frequency).expand(len(data)).independent(1))\n",
    "    pyro.sample(\"first_coin_flips\", \n",
    "                dist.Bernoulli(probs=0.5).expand(len(data)).independent(1))\n",
    "    pyro.sample(\"second_coin_flips\", \n",
    "                dist.Bernoulli(probs=0.5).expand(len(data)).independent(1))\n",
    "\n",
    "# setup the optimizer\n",
    "adam_params = {\"lr\": 0.003, \"betas\": (0.90, 0.999)}\n",
    "optimizer = Adam(adam_params)\n",
    "\n",
    "# setup the inference algorithm\n",
    "svi = SVI(model, guide, optimizer, loss=Trace_ELBO())\n",
    "\n",
    "# do gradient steps\n",
    "for step in range(n_steps):\n",
    "    svi.step(data)\n",
    "    if step % 100 == 0:\n",
    "        print_progress(step)"
   ]
  },
  {
   "cell_type": "code",
   "execution_count": 0,
   "metadata": {
    "colab": {
     "autoexec": {
      "startup": false,
      "wait_interval": 0
     },
     "base_uri": "https://localhost:8080/",
     "height": 265
    },
    "colab_type": "code",
    "executionInfo": {
     "elapsed": 485,
     "status": "ok",
     "timestamp": 1530196419964,
     "user": {
      "displayName": "Tiger Shen",
      "photoUrl": "https://lh3.googleusercontent.com/a/default-user=s128",
      "userId": "102068066460820452741"
     },
     "user_tz": 360
    },
    "id": "dxRVhuO-wEtZ",
    "outputId": "a6f2af04-edd3-4651-ffb8-69f146e9da91"
   },
   "outputs": [
    {
     "data": {
      "image/png": "[encoded data removed]",
      "text/plain": [
       "<matplotlib.figure.Figure at 0x7f4694f2dbe0>"
      ]
     },
     "metadata": {
      "tags": []
     },
     "output_type": "display_data"
    }
   ],
   "source": [
    "display_graph(pyro.param(\"alpha\").item(), pyro.param(\"beta\").item())"
   ]
  },
  {
   "cell_type": "code",
   "execution_count": 0,
   "metadata": {
    "colab": {
     "autoexec": {
      "startup": false,
      "wait_interval": 0
     }
    },
    "colab_type": "code",
    "id": "k3ATRhDazjA5"
   },
   "outputs": [],
   "source": []
  }
 ],
 "metadata": {
  "colab": {
   "collapsed_sections": [
    "LlGs12E6CmyP",
    "eECphgmkllgA"
   ],
   "default_view": {},
   "name": "Copy of bayesian_hackers_pyro.ipynb",
   "provenance": [
    {
     "file_id": "1T78l6cazwgHCtFY0gGEycjsJTJvV306v",
     "timestamp": 1526325118358
    }
   ],
   "version": "0.3.2",
   "views": {}
  },
  "kernelspec": {
   "display_name": "Python 3",
   "language": "python",
   "name": "python3"
  },
  "language_info": {
   "codemirror_mode": {
    "name": "ipython",
    "version": 3
   },
   "file_extension": ".py",
   "mimetype": "text/x-python",
   "name": "python",
   "nbconvert_exporter": "python",
   "pygments_lexer": "ipython3",
   "version": "3.6.4"
  }
 },
 "nbformat": 4,
 "nbformat_minor": 1
}
