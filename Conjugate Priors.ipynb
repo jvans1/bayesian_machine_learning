{
 "cells": [
  {
   "cell_type": "code",
   "execution_count": 1,
   "metadata": {},
   "outputs": [],
   "source": [
    "%matplotlib inline"
   ]
  },
  {
   "cell_type": "code",
   "execution_count": 8,
   "metadata": {},
   "outputs": [],
   "source": [
    "import matplotlib as ml\n",
    "from scipy.stats import poisson\n",
    "import matplotlib.pyplot as plot\n",
    "import numpy as np\n",
    "import matplotlib.patches as mpatches\n",
    "from scipy.stats import gamma"
   ]
  },
  {
   "cell_type": "markdown",
   "metadata": {},
   "source": [
    "# Creating a bayesian model\n",
    "\n",
    "There are four main steps to creating a bayesian model.\n",
    "\n",
    "1. Create a model that makes the *most sense* for how the data might have been created\n",
    "2. Create a prior, e.g. define the parameters of the model in terms of a distribution\n",
    "3. Use observations to construct a likelihood function. \n",
    "4. Combine the likelihood and the prior to create a posterior distribution "
   ]
  },
  {
   "cell_type": "markdown",
   "metadata": {},
   "source": [
    "## Step 1: Define a model"
   ]
  },
  {
   "cell_type": "markdown",
   "metadata": {},
   "source": [
    "A poisson distribution seems like a good distribution because it represents discrete data. The poisson distribution takes a parameter λ. The probability of getting a specific data point can be represented by fixing λ."
   ]
  },
  {
   "cell_type": "markdown",
   "metadata": {},
   "source": [
    "* Poisson distribution: $$ P\\left( x \\mid λ \\right) = \\frac{{e^{ - \\lambda } \\lambda ^x }}{{x!}} $$ \n",
    "\n",
    "\n",
    "A really nice property of the poisson distribution is that λ represents the mean. Historically we know that the mean number of apple pies purchased is 4 which. Plugging this value in for λ gives the following pmf."
   ]
  },
  {
   "cell_type": "code",
   "execution_count": 3,
   "metadata": {
    "scrolled": true
   },
   "outputs": [
    {
     "data": {
      "image/png": "[encoded data removed]",
      "text/plain": [
       "<Figure size 432x288 with 1 Axes>"
      ]
     },
     "metadata": {},
     "output_type": "display_data"
    }
   ],
   "source": [
    "µ = 4\n",
    "x = np.arange(poisson.ppf(0.01, µ), poisson.ppf(0.99, µ))\n",
    "y = poisson.pmf(x, µ)\n",
    "prior_hist = plot.hist(x, np.arange(0,10), weights=y,align=\"left\", rwidth=0.8)"
   ]
  },
  {
   "cell_type": "markdown",
   "metadata": {},
   "source": [
    "## Step 2: Define a prior"
   ]
  },
  {
   "cell_type": "markdown",
   "metadata": {},
   "source": [
    "The next step is to define the hyperparameter of our model λ, as a distribution. \n",
    "\n",
    "A model mean, µ = 4 is our observed mean, not our actual mean. We can represent our uncertainty about the actual mean with a gamma distribution. Why I'm choosing a gamma distribution will become apparent shortly! We want to reflect our prior belief that the actual mean is *around* 4, so we choose parameters for the gamma distribution, shape(𝑘) and scale(𝜃), such that the mean of our gamma distribution is 4.\n",
    "\n",
    "* Gamma distribution: $$P\\left(λ \\right) =  \\frac{ 1 } {\\Gamma \\left( 𝑘 \\right) 𝜃^𝑘}λ^{𝑘 -1}𝑒^{-{\\frac {λ}{𝜃}}} $$\n",
    "\n",
    "* [Mean of a gamma distribution](https://en.wikipedia.org/wiki/Gamma_distribution): µ = 𝑘 * 𝜃\n",
    "\n",
    "So\n",
    "* 𝑘 = 4\n",
    "* 𝜃 = 1 \n",
    "\n",
    "yields \n",
    "* µ = 4\n",
    "\n",
    "* Gamma with  𝑘 = 4 and 𝜃 = 1: $$P\\left(λ \\right) =  \\frac{ 1 } {6}λ^{3}𝑒^{-λ} $$"
   ]
  },
  {
   "cell_type": "code",
   "execution_count": 95,
   "metadata": {},
   "outputs": [
    {
     "data": {
      "text/plain": [
       "[<matplotlib.lines.Line2D at 0x11f785400>]"
      ]
     },
     "execution_count": 95,
     "metadata": {},
     "output_type": "execute_result"
    },
    {
     "data": {
      "image/png": "[encoded data removed]",
      "text/plain": [
       "<Figure size 432x288 with 1 Axes>"
      ]
     },
     "metadata": {},
     "output_type": "display_data"
    }
   ],
   "source": [
    "from scipy.stats import gamma\n",
    "shape = 4\n",
    "scale = 1\n",
    "x = np.linspace(gamma.ppf(0.001, shape, loc=0, scale=scale), gamma.ppf(0.999, shape, loc=0, scale=scale))\n",
    "fig, ax = plot.subplots(1, 1)\n",
    "ax.plot(x, gamma.pdf(x, shape, loc=0, scale=scale), 'r-',label='gamma pdf')"
   ]
  },
  {
   "cell_type": "markdown",
   "metadata": {},
   "source": [
    "There were a lot of choices we could make for 𝑘 and 𝜃 that make a mean of 4.(HOW DO DIFFERENT CHOICES EFFECT THE POSTERIOR) If we have strong beliefs about *how* this hyperparameters of the prior are distributed, we could continue one level further up and make distributions of the two variables 𝑘 and 𝜃. This type of modeling is known as [hierarchical bayes](https://en.wikipedia.org/wiki/Bayesian_hierarchical_modeling)"
   ]
  },
  {
   "cell_type": "markdown",
   "metadata": {},
   "source": [
    "## Step 3: Construct a likelihood function"
   ]
  },
  {
   "cell_type": "markdown",
   "metadata": {},
   "source": [
    "Our likelihood function for a specific observation is $$ P(x_1 \\mid λ)$$ for different values of lambda. To get the likelihood of _all_ of our observations, we multiply the individual likelihoods together:\n",
    "\n",
    "$$ P(x_1, x_2 ... \\mid λ) = \\prod\\limits_{i=1}^X p(x_i \\mid  λ) $$\n"
   ]
  },
  {
   "cell_type": "markdown",
   "metadata": {},
   "source": [
    "## Step 4: Calculate the posterior"
   ]
  },
  {
   "cell_type": "markdown",
   "metadata": {},
   "source": [
    "Remember bayes theorem:\n",
    "\n",
    "$$ P(λ \\mid X) = \\frac{ P(λ)\\, P(X \\mid λ) }{P(X)} $$\n",
    "\n",
    "P(X) is a constant because the values of X are fixed to our observations. The equation reads probability of λ _given our observations_, X. We can ditch the P(X) denominor term temporarily just so long as we rescale the distribution at the end. We can now say that the left hand side is _proportional to_ the right hand side\n",
    "\n",
    "$$ P(λ \\mid X) ∝ P(λ)  P(X \\mid λ)  $$\n",
    "\n",
    "Plugging in our equations, we get a posterior distribution for λ:\n",
    "\n",
    "$$ P(λ \\mid X) ∝ \\frac{ 1 }{6}\\,λ^{3}𝑒^{-λ} \\prod\\limits_{i=1}^X \\frac{{e^{ - \\lambda } \\lambda ^{x_i} }}{{x_i!}} $$\n",
    "\n",
    "For the sake of simplicity, let's say we observe 1 customer who picks 6 apples. This equation simplifies to: \n",
    "\n",
    "$$ P(λ \\mid X) ∝ \\frac{ 1 }{6}\\,λ^{3}𝑒^{-λ} \\frac{{e^{ - \\lambda } \\lambda^6 }}{720} $$\n",
    "\n",
    "ensure we re-scale the distribution by some constant (C) so that it integrates to 1:\n",
    "\n",
    "$$ P(λ \\mid X) = C \\,λ^{3}𝑒^{-λ} {e^{ - \\lambda } \\lambda^6 } $$\n",
    "\n",
    "and combine terms to get the posterior distribution:\n",
    "\n",
    "$$ P(λ \\mid X) = C λ^9𝑒^{-2\\lambda} $$\n"
   ]
  },
  {
   "cell_type": "markdown",
   "metadata": {},
   "source": [
    "## Conjugate priors"
   ]
  },
  {
   "cell_type": "markdown",
   "metadata": {},
   "source": [
    "We've computed our posterior for λ, but even more incredibly, we've landed back on a Gamma distribution! Let's see exactly how that's the case. Remember the gamma distribution is defined as:\n",
    "\n",
    "\n",
    "$$P\\left(λ \\right) =  \\frac{ 1 } {\\Gamma \\left( 𝑘 \\right) 𝜃^𝑘}λ^{𝑘 -1}𝑒^{-{\\frac {λ}{𝜃}}} $$\n",
    "\n",
    "and at the beginning, we somewhat arbirarily chose values for 𝑘 and 𝜃 because it caused the mean to be 4. If we choose values of 𝑘 and 𝜃 to be 10 and 0.5, respectively, we end up with: \n",
    "\n",
    "$$P\\left(λ \\right) =  \\frac{ 1 } {\\Gamma \\left( 10 \\right) 0.5^{10}}λ^9𝑒^{-{2{λ}}} $$\n",
    "\n",
    "which just means that \n",
    "\n",
    "$$ C =  \\frac{ 1 } {\\Gamma \\left( 10 \\right) 0.5^{10}} $$\n",
    "\n",
    "Now this wasn't an accident, in fact it's precisely the reason that I chose a gamma distribution as the prior. A poissoin distribution's conjugate prior is the Gamma distribution, and whenever you choose a conjugate prior, the posterior will always be of the same form as the prior\n",
    "\n",
    "Plotting our new posterior distribution:"
   ]
  },
  {
   "cell_type": "code",
   "execution_count": 18,
   "metadata": {},
   "outputs": [
    {
     "data": {
      "text/plain": [
       "<matplotlib.legend.Legend at 0x10cb732e8>"
      ]
     },
     "execution_count": 18,
     "metadata": {},
     "output_type": "execute_result"
    },
    {
     "data": {
      "image/png": "[encoded data removed]",
      "text/plain": [
       "<Figure size 432x288 with 1 Axes>"
      ]
     },
     "metadata": {},
     "output_type": "display_data"
    }
   ],
   "source": [
    "\n",
    "shape1 = 10\n",
    "scale1 = 0.5\n",
    "x1 = np.linspace(gamma.ppf(0.001, shape1, loc=0, scale=scale1), gamma.ppf(0.999, shape1, loc=0, scale=scale1))\n",
    "y1 = gamma.pdf(x1, shape1, loc=0, scale=scale1)\n",
    "\n",
    "shape2 = 4\n",
    "scale2 = 1\n",
    "x2 = np.linspace(gamma.ppf(0.001, shape2, loc=0, scale=scale2), gamma.ppf(0.999, shape2, loc=0, scale=scale2))\n",
    "y2 = gamma.pdf(x2, shape2, loc=0, scale=scale2)\n",
    "\n",
    "fig, ax = plot.subplots(1, 1)\n",
    "\n",
    "posterior, = ax.plot(x1, y1, 'b-', label=\"posterior\") \n",
    "prior, = ax.plot(x2, y2, 'r-', label=\"prior\")\n",
    "ax.legend(handles=[posterior, prior])"
   ]
  },
  {
   "cell_type": "code",
   "execution_count": null,
   "metadata": {},
   "outputs": [],
   "source": []
  }
 ],
 "metadata": {
  "kernelspec": {
   "display_name": "Python (3.6.4)",
   "language": "python",
   "name": "3.6.4"
  },
  "language_info": {
   "codemirror_mode": {
    "name": "ipython",
    "version": 3
   },
   "file_extension": ".py",
   "mimetype": "text/x-python",
   "name": "python",
   "nbconvert_exporter": "python",
   "pygments_lexer": "ipython3",
   "version": "3.6.4"
  }
 },
 "nbformat": 4,
 "nbformat_minor": 2
}
