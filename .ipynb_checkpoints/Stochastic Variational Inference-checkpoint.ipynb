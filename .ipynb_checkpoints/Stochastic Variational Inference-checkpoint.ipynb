{
 "cells": [
  {
   "cell_type": "code",
   "execution_count": 1,
   "metadata": {},
   "outputs": [],
   "source": [
    "from __future__ import print_function\n",
    "import numpy as np\n",
    "import torch\n",
    "from torch.autograd import Variable\n",
    "import pyro\n",
    "from pyro.optim import Adam\n",
    "from pyro.infer import SVI\n",
    "import pyro.distributions as dist"
   ]
  },
  {
   "cell_type": "code",
   "execution_count": 2,
   "metadata": {},
   "outputs": [],
   "source": [
    "pyro.clear_param_store()"
   ]
  },
  {
   "cell_type": "code",
   "execution_count": 3,
   "metadata": {},
   "outputs": [],
   "source": [
    "data = []\n",
    "for _ in range(6):\n",
    "    data.append(Variable(torch.ones(1)))\n",
    "for _ in range(4):\n",
    "    data.append(Variable(torch.zeros(1)))"
   ]
  },
  {
   "cell_type": "code",
   "execution_count": 4,
   "metadata": {},
   "outputs": [],
   "source": [
    "def model(data):\n",
    "    alpha0 = Variable(torch.Tensor([10.0]))\n",
    "    beta0  = Variable(torch.Tensor([10.0]))\n",
    "    f = pyro.sample(\"latent_fairness\", dist.beta, alpha0, beta0)\n",
    "    for i in range(len(data)):\n",
    "        pyro.observe(\"obs_{}\".format(i), dist.bernoulli, data[i], f)"
   ]
  },
  {
   "cell_type": "code",
   "execution_count": 5,
   "metadata": {},
   "outputs": [],
   "source": [
    "def guide(data):\n",
    "    #why log 15?\n",
    "    #How does defining alpha/beta in log space keep them non-negative? What if they'r [0, 1)\n",
    "    log_alpha0 = Variable(torch.Tensor([np.log(15.0)]), requires_grad = True)\n",
    "    log_beta0  = Variable(torch.Tensor([np.log(15.0)]), requires_grad = True)\n",
    "    log_alpha  = pyro.param(\"log_alpha\", log_alpha0)\n",
    "    log_beta   = pyro.param(\"log_beta\", log_beta0)\n",
    "    alpha      = torch.exp(log_alpha)\n",
    "    beta       = torch.exp(log_beta)\n",
    "    pyro.sample(\"latent_fairness\", dist.beta, alpha, beta)"
   ]
  },
  {
   "cell_type": "code",
   "execution_count": 6,
   "metadata": {},
   "outputs": [
    {
     "name": "stdout",
     "output_type": "stream",
     "text": [
      "........................................"
     ]
    }
   ],
   "source": [
    "adam_params = { 'lr':  0.0005, 'betas': (0.90, 0.999)}\n",
    "optimizer   = Adam(adam_params)\n",
    "svi         = SVI(model, guide, optimizer, loss=\"ELBO\", num_particles=7)\n",
    "n_steps = 4000\n",
    "for step in range(n_steps):\n",
    "    svi.step(data)\n",
    "    if step % 100 == 0:\n",
    "        print(\".\", end='')"
   ]
  },
  {
   "cell_type": "code",
   "execution_count": 7,
   "metadata": {},
   "outputs": [
    {
     "name": "stdout",
     "output_type": "stream",
     "text": [
      "13.918305\n"
     ]
    }
   ],
   "source": [
    "alpha = torch.exp(pyro.param(\"log_alpha\")).data.numpy()[0]\n",
    "beta  = torch.exp(pyro.param(\"log_beta\")).data.numpy()[0]\n",
    "print(beta)\n",
    "inferred_mean = alpha / (alpha + beta)\n",
    "\n",
    "factor = beta / (alpha  * (1 + alpha + beta))\n",
    "inferred_std_dev = inferred_mean * np.sqrt(factor)"
   ]
  },
  {
   "cell_type": "code",
   "execution_count": 8,
   "metadata": {},
   "outputs": [
    {
     "name": "stdout",
     "output_type": "stream",
     "text": [
      "Inferred Mean: 0.5352704524993896, Inferred Std Dev 0.08965234808609344\n"
     ]
    }
   ],
   "source": [
    "print(\"Inferred Mean: {}, Inferred Std Dev {}\".format(inferred_mean, inferred_std_dev))"
   ]
  },
  {
   "cell_type": "code",
   "execution_count": 9,
   "metadata": {},
   "outputs": [
    {
     "data": {
      "text/plain": [
       "[<matplotlib.lines.Line2D at 0x113980fd0>]"
      ]
     },
     "execution_count": 9,
     "metadata": {},
     "output_type": "execute_result"
    },
    {
     "data": {
      "image/png": "[encoded data removed]",
      "text/plain": [
       "<Figure size 432x288 with 1 Axes>"
      ]
     },
     "metadata": {},
     "output_type": "display_data"
    }
   ],
   "source": [
    "from scipy.stats import beta as beta_dist\n",
    "import matplotlib.pyplot as plt\n",
    "%matplotlib inline\n",
    "fig, ax = plt.subplots(1, 1)\n",
    "a, b = float(alpha), float(beta)\n",
    "x = np.linspace(beta_dist.ppf(0.01, a, b), beta_dist.ppf(0.99, a, b), 100)\n",
    "ax.plot(x, beta_dist.pdf(x, a, b),'b-', lw=5, alpha=0.6, label='posterior')\n",
    "a2, b2 = 10.0, 10.0\n",
    "x = np.linspace(beta_dist.ppf(0.01, a2, b2), beta_dist.ppf(0.99, a2, b2), 100)\n",
    "ax.plot(x, beta_dist.pdf(x, a2, b2),'r-', lw=5, alpha=0.6, label='prior')"
   ]
  }
 ],
 "metadata": {
  "kernelspec": {
   "display_name": "Python (3.6.4)",
   "language": "python",
   "name": "3.6.4"
  },
  "language_info": {
   "codemirror_mode": {
    "name": "ipython",
    "version": 3
   },
   "file_extension": ".py",
   "mimetype": "text/x-python",
   "name": "python",
   "nbconvert_exporter": "python",
   "pygments_lexer": "ipython3",
   "version": "3.6.4"
  }
 },
 "nbformat": 4,
 "nbformat_minor": 2
}
