{
 "cells": [
  {
   "cell_type": "code",
   "execution_count": 1,
   "metadata": {},
   "outputs": [],
   "source": [
    "%matplotlib inline"
   ]
  },
  {
   "cell_type": "code",
   "execution_count": 2,
   "metadata": {},
   "outputs": [],
   "source": [
    "import matplotlib as ml\n",
    "from scipy.stats import poisson\n",
    "import matplotlib.pyplot as plot\n",
    "import numpy as np\n",
    "from scipy.stats import gamma"
   ]
  },
  {
   "cell_type": "markdown",
   "metadata": {},
   "source": [
    "# Creating a bayesian model\n",
    "\n",
    "There are four main steps to creating a bayesian model.\n",
    "\n",
    "1. Create a model that makes the *most sense* for how the data might have been created\n",
    "2. Create a prior, e.g. define the hyperparameters of this model in terms of other models\n",
    "3. Use observations to construct a likelihood function. \n",
    "4. Combine the likelihood and the prior to create a posterior distribution"
   ]
  },
  {
   "cell_type": "markdown",
   "metadata": {},
   "source": [
    "## Step 1: Define a model"
   ]
  },
  {
   "cell_type": "markdown",
   "metadata": {},
   "source": [
    "A poisson distribution seems like a good distribution because it represents discrete data. The poisson distribution takes a parameter λ. The probability of getting a specific data point can be represented by fixing λ."
   ]
  },
  {
   "cell_type": "markdown",
   "metadata": {},
   "source": [
    "* Poisson distribution: $$ P\\left( x \\mid λ \\right) = \\frac{{e^{ - \\lambda } \\lambda ^x }}{{x!}} $$ \n",
    "\n",
    "\n",
    "A really nice property of the poisson distribution is that λ represents the mean. Historically we know that the mean number of apple pies purchased is 4 which. Plugging this value in for λ gives the following pmf."
   ]
  },
  {
   "cell_type": "code",
   "execution_count": 3,
   "metadata": {
    "scrolled": true
   },
   "outputs": [
    {
     "data": {
      "image/png": "[encoded data removed]",
      "text/plain": [
       "<Figure size 432x288 with 1 Axes>"
      ]
     },
     "metadata": {},
     "output_type": "display_data"
    }
   ],
   "source": [
    "µ = 4\n",
    "x = np.arange(poisson.ppf(0.01, µ), poisson.ppf(0.99, µ))\n",
    "y = poisson.pmf(x, µ)\n",
    "prior_hist = plot.hist(x, np.arange(0,10), weights=y,align=\"left\", rwidth=0.8)"
   ]
  },
  {
   "cell_type": "markdown",
   "metadata": {},
   "source": [
    "## Step 2: Define a prior"
   ]
  },
  {
   "cell_type": "markdown",
   "metadata": {},
   "source": [
    "The next step is to define the hyperparameter of our model λ, as a distribution. \n",
    "\n",
    "A model mean, µ = 4 is our observed mean, not our actual mean. We can represent our uncertainty about the actual mean with a gamma distribution. Why I'm choosing a gamma distribution will become apparent shortly! We want to reflect our prior belief that the actual mean is *around* 4, so we choose parameters for the gamma distribution, shape(𝑘) and scale(𝜃), such that the mean of our gamma distribution is 4.\n",
    "\n",
    "* Gamma distribution: $$λ\\left(x \\right) =  \\frac{ 1 } {\\Gamma \\left( 𝑘 \\right) 𝜃^𝑘}x^{𝑘 -1}𝑒^{-{\\frac {x}{𝜃}}} $$\n",
    "\n",
    "* [Mean of a gamma distribution](https://en.wikipedia.org/wiki/Gamma_distribution): µ = 𝑘 * 𝜃\n",
    "\n",
    "So\n",
    "* 𝑘 = 4\n",
    "* 𝜃 = 1 \n",
    "\n",
    "yields \n",
    "* µ = 4\n",
    "\n",
    "* Gamma with  𝑘 = 4 and 𝜃 = 1: $$λ\\left(x \\right) =  \\frac{ 1 } {6}x^{3}𝑒^{-x} $$"
   ]
  },
  {
   "cell_type": "code",
   "execution_count": 95,
   "metadata": {},
   "outputs": [
    {
     "data": {
      "text/plain": [
       "[<matplotlib.lines.Line2D at 0x11f785400>]"
      ]
     },
     "execution_count": 95,
     "metadata": {},
     "output_type": "execute_result"
    },
    {
     "data": {
      "image/png": "[encoded data removed]",
      "text/plain": [
       "<Figure size 432x288 with 1 Axes>"
      ]
     },
     "metadata": {},
     "output_type": "display_data"
    }
   ],
   "source": [
    "from scipy.stats import gamma\n",
    "shape = 4\n",
    "scale = 1\n",
    "x = np.linspace(gamma.ppf(0.001, shape, loc=0, scale=scale), gamma.ppf(0.999, shape, loc=0, scale=scale))\n",
    "fig, ax = plot.subplots(1, 1)\n",
    "ax.plot(x, gamma.pdf(x, shape, loc=0, scale=scale), 'r-',label='gamma pdf')"
   ]
  },
  {
   "cell_type": "markdown",
   "metadata": {},
   "source": [
    "There were a lot of choices we could make for 𝑘 and 𝜃 that make a mean of 4.(HOW DO DIFFERENT CHOICES EFFECT THE POSTERIOR) If we have strong beliefs about *how* this hyperparameters of the prior are distributed, we could continue one level further up and make distributions of the two variables 𝑘 and 𝜃. This type of modeling is known as [hierarchical bayes](https://en.wikipedia.org/wiki/Bayesian_hierarchical_modeling)"
   ]
  },
  {
   "cell_type": "markdown",
   "metadata": {},
   "source": [
    "## Step 3: Construct a likelihood function"
   ]
  },
  {
   "cell_type": "markdown",
   "metadata": {},
   "source": [
    "The main goal of the likelihood function, is to find the model parameters that make the data the most probable. In our case, we want the best value of λ. It's an optimization problem so we want to frame likelihood as a function of model parameters with respect to given inputs(observations). We've used a poisson distribution to describe out data so our likelihood becomes:\n"
   ]
  },
  {
   "cell_type": "markdown",
   "metadata": {},
   "source": [
    "$$ P(λ \\mid X) = P(x_1, x_2 ... \\mid λ) = \\prod\\limits_{i=1}^X p(x_i \\mid  λ) $$\n",
    "\n",
    "\n",
    "Remember bayes theorem:\n",
    "\n",
    "$$ P(X \\mid λ) = \\frac{ P(X)\\, P(λ \\mid X) }{P(λ)} $$\n",
    "\n",
    "P(λ) is a constant - the equation reads probability of X *given* λ, so P(λ) is a scalar value.\n",
    "\n",
    "$$ P(X \\mid λ) ∝ P(X)  P(λ \\mid X)  $$\n",
    "\n",
    "Plugging in our equations:\n",
    "\n",
    "$$ \\frac{ 1 } {6}x^{3}𝑒^{-x}  \\frac{{e^{ - \\lambda } \\lambda ^x }}{{x!}} $$"
   ]
  },
  {
   "cell_type": "code",
   "execution_count": 4,
   "metadata": {},
   "outputs": [
    {
     "data": {
      "image/png": "[encoded data removed]",
      "text/plain": [
       "<Figure size 432x288 with 1 Axes>"
      ]
     },
     "metadata": {},
     "output_type": "display_data"
    }
   ],
   "source": [
    "observed = []\n",
    "observed += [5] * 0\n",
    "observed += [4] * 1\n",
    "observed += [3] * 1\n",
    "observed += [2] * 2\n",
    "observed += [1] * 0\n",
    "observed_hist = plot.hist(observed, [1,2,3,4,5,6], align=\"left\", rwidth=0.8, density=True)"
   ]
  },
  {
   "cell_type": "code",
   "execution_count": 98,
   "metadata": {},
   "outputs": [
    {
     "ename": "SyntaxError",
     "evalue": "invalid syntax (<ipython-input-98-e737a12a5395>, line 1)",
     "output_type": "error",
     "traceback": [
      "\u001b[0;36m  File \u001b[0;32m\"<ipython-input-98-e737a12a5395>\"\u001b[0;36m, line \u001b[0;32m1\u001b[0m\n\u001b[0;31m    $$ P(A \\mid B) = \\frac{P(B \\mid A) \\, P(A)}{P(B)} $$\u001b[0m\n\u001b[0m    ^\u001b[0m\n\u001b[0;31mSyntaxError\u001b[0m\u001b[0;31m:\u001b[0m invalid syntax\n"
     ]
    }
   ],
   "source": [
    "%%latex\n",
    "$$ P(A \\mid B) = \\frac{P(B \\mid A) \\, P(A)}{P(B)} $$"
   ]
  },
  {
   "cell_type": "code",
   "execution_count": null,
   "metadata": {},
   "outputs": [],
   "source": []
  }
 ],
 "metadata": {
  "kernelspec": {
   "display_name": "Python (3.6.4)",
   "language": "python",
   "name": "3.6.4"
  },
  "language_info": {
   "codemirror_mode": {
    "name": "ipython",
    "version": 3
   },
   "file_extension": ".py",
   "mimetype": "text/x-python",
   "name": "python",
   "nbconvert_exporter": "python",
   "pygments_lexer": "ipython3",
   "version": "3.6.4"
  }
 },
 "nbformat": 4,
 "nbformat_minor": 2
}
